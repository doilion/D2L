{
 "cells": [
  {
   "metadata": {},
   "cell_type": "markdown",
   "source": "##### 1、获取路径，拼接路径",
   "id": "9f9a401cc3b72d33"
  },
  {
   "metadata": {
    "ExecuteTime": {
     "end_time": "2024-09-12T15:49:28.640778Z",
     "start_time": "2024-09-12T15:49:28.628654Z"
    }
   },
   "cell_type": "code",
   "source": [
    "from pathlib import Path\n",
    "\n",
    "# 获取home路径\n",
    "print(Path.home())\n",
    "\n",
    "# 获取当前的工作路径\n",
    "print(Path.cwd())\n",
    "\n",
    "# 拼接路径\n",
    "file_path = Path.cwd() / \"test.py\"\n",
    "print(file_path)"
   ],
   "id": "7500849cbc838883",
   "outputs": [
    {
     "name": "stdout",
     "output_type": "stream",
     "text": [
      "C:\\Users\\11938\n",
      "E:\\code\\D2L\\python_pytorch_基础\\文件路径处理\n",
      "E:\\code\\D2L\\python_pytorch_基础\\文件路径处理\\test.py\n"
     ]
    }
   ],
   "execution_count": 1
  },
  {
   "metadata": {},
   "cell_type": "markdown",
   "source": "##### 2、常用属性",
   "id": "f2a9be0606e650a8"
  },
  {
   "metadata": {
    "ExecuteTime": {
     "end_time": "2024-09-12T16:02:33.687594Z",
     "start_time": "2024-09-12T16:02:33.678959Z"
    }
   },
   "cell_type": "code",
   "source": [
    "from pathlib import Path\n",
    "\n",
    "# 生成路径对象\n",
    "path = Path(r\"E:\\code\\D2L\\test.py\")\n",
    "print(path)\n",
    "print(path.name)\n",
    "print(path.stem)\n",
    "print(path.suffix)\n",
    "print(path.anchor)\n",
    "print(path.parent)\n",
    "print(path.parent.parent)"
   ],
   "id": "f8b7d4f46f8ae26c",
   "outputs": [
    {
     "name": "stdout",
     "output_type": "stream",
     "text": [
      "E:\\code\\D2L\\test.py\n",
      "test.py\n",
      "test\n",
      ".py\n",
      "E:\\\n",
      "E:\\code\\D2L\n",
      "E:\\code\n"
     ]
    }
   ],
   "execution_count": 2
  },
  {
   "metadata": {
    "ExecuteTime": {
     "end_time": "2024-09-12T16:08:27.920758Z",
     "start_time": "2024-09-12T16:08:27.666038Z"
    }
   },
   "cell_type": "code",
   "source": [
    "from pathlib import Path\n",
    "\n",
    "# 获取当前脚本所在的目录路径\n",
    "print(__file__)\n",
    "\n",
    "# 获取当前脚本所在的目录路径，并申城路径对象\n",
    "FILE = Path(__file__)\n",
    "print(FILE)"
   ],
   "id": "b721d0e6104130b2",
   "outputs": [
    {
     "ename": "NameError",
     "evalue": "name '__file__' is not defined",
     "output_type": "error",
     "traceback": [
      "\u001B[1;31m---------------------------------------------------------------------------\u001B[0m",
      "\u001B[1;31mNameError\u001B[0m                                 Traceback (most recent call last)",
      "Cell \u001B[1;32mIn[3], line 4\u001B[0m\n\u001B[0;32m      1\u001B[0m \u001B[38;5;28;01mfrom\u001B[39;00m \u001B[38;5;21;01mpathlib\u001B[39;00m \u001B[38;5;28;01mimport\u001B[39;00m Path\n\u001B[0;32m      3\u001B[0m \u001B[38;5;66;03m# 获取当前脚本所在的目录路径\u001B[39;00m\n\u001B[1;32m----> 4\u001B[0m \u001B[38;5;28mprint\u001B[39m(\u001B[38;5;18;43m__file__\u001B[39;49m)\n\u001B[0;32m      6\u001B[0m \u001B[38;5;66;03m# 获取当前脚本所在的目录路径，并申城路径对象\u001B[39;00m\n\u001B[0;32m      7\u001B[0m FILE \u001B[38;5;241m=\u001B[39m Path(\u001B[38;5;18m__file__\u001B[39m)\n",
      "\u001B[1;31mNameError\u001B[0m: name '__file__' is not defined"
     ]
    }
   ],
   "execution_count": 3
  },
  {
   "metadata": {},
   "cell_type": "markdown",
   "source": "##### 3、获取文件的绝对路径 .reslove(）",
   "id": "63f5813afce88a7f"
  },
  {
   "metadata": {
    "ExecuteTime": {
     "end_time": "2024-09-12T16:17:47.989678Z",
     "start_time": "2024-09-12T16:17:47.985168Z"
    }
   },
   "cell_type": "code",
   "source": [
    "from pathlib import Path\n",
    "\n",
    "# 生成路径对象\n",
    "path = Path(\"test.py\")\n",
    "\n",
    "print(Path.cwd())\n",
    "print(path)\n",
    "print(path.resolve())"
   ],
   "id": "df5ff29ca7ff961f",
   "outputs": [
    {
     "name": "stdout",
     "output_type": "stream",
     "text": [
      "E:\\code\\D2L\\python_pytorch_基础\\文件路径处理\n",
      "test.py\n",
      "test.py\n"
     ]
    }
   ],
   "execution_count": 5
  },
  {
   "metadata": {},
   "cell_type": "markdown",
   "source": "##### 4、获取相对路径  .relative_to()",
   "id": "af0d43b65355405"
  },
  {
   "metadata": {
    "ExecuteTime": {
     "end_time": "2024-09-12T16:19:50.542079Z",
     "start_time": "2024-09-12T16:19:50.536076Z"
    }
   },
   "cell_type": "code",
   "source": [
    "from pathlib import Path\n",
    "\n",
    "ROOT = \"/Users/enzo/Documents\"\n",
    "path = Path(\"/Users/enzo/Documents/test.py\")\n",
    "print(path.relative_to(ROOT))   # 输出 ： test.py"
   ],
   "id": "1771fb29f50f8ee0",
   "outputs": [
    {
     "name": "stdout",
     "output_type": "stream",
     "text": [
      "test.py\n"
     ]
    }
   ],
   "execution_count": 6
  },
  {
   "metadata": {},
   "cell_type": "markdown",
   "source": "##### 5、检查文件是否存在 .exists()",
   "id": "f9f3419d6663daee"
  },
  {
   "metadata": {
    "ExecuteTime": {
     "end_time": "2024-09-12T16:26:37.363701Z",
     "start_time": "2024-09-12T16:26:37.356195Z"
    }
   },
   "cell_type": "code",
   "source": [
    "from pathlib import Path\n",
    "\n",
    "filename = Path(\"/小杰/test.py\")\n",
    "print(filename.exists())"
   ],
   "id": "c845015de2e678b1",
   "outputs": [
    {
     "name": "stdout",
     "output_type": "stream",
     "text": [
      "False\n"
     ]
    }
   ],
   "execution_count": 8
  },
  {
   "metadata": {},
   "cell_type": "markdown",
   "source": "##### 6、更改文件后缀名 .with_suffix()",
   "id": "6e94600417f4efd0"
  },
  {
   "metadata": {
    "ExecuteTime": {
     "end_time": "2024-09-12T16:28:42.301034Z",
     "start_time": "2024-09-12T16:28:42.294036Z"
    }
   },
   "cell_type": "code",
   "source": [
    "from pathlib import Path\n",
    "\n",
    "file_path = Path(\"doilion.txt\")\n",
    "new_path = file_path.with_suffix(\".yaml\")\n",
    "print(new_path)"
   ],
   "id": "f859611ab635f1d9",
   "outputs": [
    {
     "name": "stdout",
     "output_type": "stream",
     "text": [
      "doilion.yaml\n"
     ]
    }
   ],
   "execution_count": 9
  },
  {
   "metadata": {},
   "cell_type": "markdown",
   "source": "##### 7、创建文件  .touch() ",
   "id": "4662e889fd96a5b6"
  },
  {
   "metadata": {
    "ExecuteTime": {
     "end_time": "2024-09-12T16:32:27.532852Z",
     "start_time": "2024-09-12T16:32:27.524330Z"
    }
   },
   "cell_type": "code",
   "source": [
    "from pathlib import Path\n",
    "\n",
    "filename = Path(r\"E:\\code\\D2L\\python_pytorch_基础\\文件路径处理\\demo.py\")\n",
    "if not filename.exists():\n",
    "    filename.touch()"
   ],
   "id": "9dadef26afe260e5",
   "outputs": [],
   "execution_count": 11
  },
  {
   "metadata": {},
   "cell_type": "markdown",
   "source": "##### 8、创建目录 .mkdir()",
   "id": "4c4857304e8b4567"
  },
  {
   "metadata": {
    "ExecuteTime": {
     "end_time": "2024-09-12T16:40:03.164116Z",
     "start_time": "2024-09-12T16:40:03.151425Z"
    }
   },
   "cell_type": "code",
   "source": [
    "import pathlib\n",
    "\n",
    "# 创建目录\n",
    "pathlib.Path(\"my_dir\").mkdir()\n",
    "\n",
    "# 创建父目录\n",
    "pathlib.Path(\"my_dir/sub_dir\").mkdir(parents=True)\n",
    "\n",
    "# 即使目录已存在，也继续创建\n",
    "pathlib.Path(\"my_dir\").mkdir(exist_ok=True)"
   ],
   "id": "5c5c62b3bfac4e63",
   "outputs": [],
   "execution_count": 15
  }
 ],
 "metadata": {
  "kernelspec": {
   "display_name": "Python 3",
   "language": "python",
   "name": "python3"
  },
  "language_info": {
   "codemirror_mode": {
    "name": "ipython",
    "version": 2
   },
   "file_extension": ".py",
   "mimetype": "text/x-python",
   "name": "python",
   "nbconvert_exporter": "python",
   "pygments_lexer": "ipython2",
   "version": "2.7.6"
  }
 },
 "nbformat": 4,
 "nbformat_minor": 5
}
