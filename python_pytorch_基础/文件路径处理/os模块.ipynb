{
 "cells": [
  {
   "metadata": {},
   "cell_type": "markdown",
   "source": "##### 1、路径操作 os.path",
   "id": "dc211cc813c34038"
  },
  {
   "metadata": {},
   "cell_type": "markdown",
   "source": "###### 1） 组合路径",
   "id": "973c5f655a0bd02a"
  },
  {
   "metadata": {
    "ExecuteTime": {
     "end_time": "2024-09-13T06:46:14.662693Z",
     "start_time": "2024-09-13T06:46:14.654298Z"
    }
   },
   "cell_type": "code",
   "source": [
    "import os\n",
    "\n",
    "path = os.path.join(\"folder\", \"subfolder\", \"file.txt\")\n",
    "print(path)"
   ],
   "id": "7336a60cee8945cd",
   "outputs": [
    {
     "name": "stdout",
     "output_type": "stream",
     "text": [
      "folder\\subfolder\\file.txt\n"
     ]
    }
   ],
   "execution_count": 1
  },
  {
   "metadata": {},
   "cell_type": "markdown",
   "source": "###### 2） 获取绝对路径",
   "id": "83275052018f3624"
  },
  {
   "metadata": {
    "ExecuteTime": {
     "end_time": "2024-09-13T06:50:18.199537Z",
     "start_time": "2024-09-13T06:50:18.183070Z"
    }
   },
   "cell_type": "code",
   "source": [
    "import os\n",
    "\n",
    "absolute_path = os.path.abspath(\"relative_path/file.txt\")\n",
    "print(absolute_path)"
   ],
   "id": "15b3f20483988476",
   "outputs": [
    {
     "name": "stdout",
     "output_type": "stream",
     "text": [
      "E:\\code\\D2L\\python_pytorch_基础\\文件路径处理\\relative_path\\file.txt\n"
     ]
    }
   ],
   "execution_count": 2
  },
  {
   "metadata": {},
   "cell_type": "markdown",
   "source": "###### 3）获取文件名",
   "id": "bd18b782c125f9a6"
  },
  {
   "metadata": {
    "ExecuteTime": {
     "end_time": "2024-09-13T06:51:15.728130Z",
     "start_time": "2024-09-13T06:51:15.715764Z"
    }
   },
   "cell_type": "code",
   "source": [
    "import os\n",
    "\n",
    "filename = os.path.basename(\"/path/to/file.txt\")\n",
    "print(filename)"
   ],
   "id": "33b384eb4e57e725",
   "outputs": [
    {
     "name": "stdout",
     "output_type": "stream",
     "text": [
      "file.txt\n"
     ]
    }
   ],
   "execution_count": 3
  },
  {
   "metadata": {},
   "cell_type": "markdown",
   "source": "###### 4）获取目录路径",
   "id": "66c0beb8aec1bdca"
  },
  {
   "metadata": {
    "ExecuteTime": {
     "end_time": "2024-09-13T06:52:34.617544Z",
     "start_time": "2024-09-13T06:52:34.604324Z"
    }
   },
   "cell_type": "code",
   "source": [
    "import os\n",
    "\n",
    "dir = os.path.dirname(\"/path/to/file.txt\")\n",
    "print(dir)"
   ],
   "id": "6342a9ed96efe9ba",
   "outputs": [
    {
     "name": "stdout",
     "output_type": "stream",
     "text": [
      "/path/to\n"
     ]
    }
   ],
   "execution_count": 5
  },
  {
   "metadata": {},
   "cell_type": "markdown",
   "source": "###### 5）文件/文件夹 是否存在",
   "id": "5889a19875a58ae5"
  },
  {
   "metadata": {
    "ExecuteTime": {
     "end_time": "2024-09-13T07:01:59.895332Z",
     "start_time": "2024-09-13T07:01:59.880536Z"
    }
   },
   "cell_type": "code",
   "source": [
    "import os\n",
    "\n",
    "if os.path.exists(\"/path/to/file.txt\"):\n",
    "    print(\"File exists!!!\")"
   ],
   "id": "17f19d9cbd1f10bf",
   "outputs": [],
   "execution_count": 6
  },
  {
   "metadata": {},
   "cell_type": "markdown",
   "source": "###### 6）分离文件名和扩展名",
   "id": "38aabb2e26b5ca6e"
  },
  {
   "metadata": {
    "ExecuteTime": {
     "end_time": "2024-09-13T07:02:57.620021Z",
     "start_time": "2024-09-13T07:02:57.611969Z"
    }
   },
   "cell_type": "code",
   "source": [
    "import os\n",
    "\n",
    "filename, extension = os.path.splitext(\"/path/to/file.txt\")\n",
    "print(filename)\n",
    "print(extension)"
   ],
   "id": "eb4daa338be7636c",
   "outputs": [
    {
     "name": "stdout",
     "output_type": "stream",
     "text": [
      "/path/to/file\n",
      ".txt\n"
     ]
    }
   ],
   "execution_count": 7
  },
  {
   "metadata": {},
   "cell_type": "markdown",
   "source": "##### 2、目录操作",
   "id": "2bd5da2b3d307fd1"
  },
  {
   "metadata": {},
   "cell_type": "markdown",
   "source": "###### 1）创建目录",
   "id": "eb0f81b56de9ec82"
  },
  {
   "metadata": {
    "ExecuteTime": {
     "end_time": "2024-09-13T07:12:21.265971Z",
     "start_time": "2024-09-13T07:12:21.257920Z"
    }
   },
   "cell_type": "code",
   "source": [
    "import os\n",
    "\n",
    "os.mkdir(\"new_directory\")\n",
    "os.makedirs(\"nested/directory/structure\")"
   ],
   "id": "5d11f5f4bd325112",
   "outputs": [],
   "execution_count": 8
  },
  {
   "metadata": {},
   "cell_type": "markdown",
   "source": "###### 2）删除目录",
   "id": "15d0e0cd18f51ff0"
  },
  {
   "metadata": {
    "ExecuteTime": {
     "end_time": "2024-09-13T07:13:39.299400Z",
     "start_time": "2024-09-13T07:13:39.279672Z"
    }
   },
   "cell_type": "code",
   "source": [
    "import os\n",
    "\n",
    "os.rmdir(\"new_directory\")\n",
    "os.removedirs(\"nested/directory/structure\")"
   ],
   "id": "fc3b3d62be938bdd",
   "outputs": [],
   "execution_count": 9
  },
  {
   "metadata": {},
   "cell_type": "markdown",
   "source": "###### 3）获取目录内容",
   "id": "b2648202807468e6"
  },
  {
   "metadata": {
    "ExecuteTime": {
     "end_time": "2024-09-13T07:24:47.521103Z",
     "start_time": "2024-09-13T07:24:47.506588Z"
    }
   },
   "cell_type": "code",
   "source": [
    "import os\n",
    "\n",
    "contents = os.listdir(\"../..\")\n",
    "print(contents)"
   ],
   "id": "6b8ab9da4e94aaaf",
   "outputs": [
    {
     "name": "stdout",
     "output_type": "stream",
     "text": [
      "['.git', '.idea', 'data', 'main.py', 'python_pytorch_基础', 'README.md', 'sencond_data_process', 'third_linear_network']\n"
     ]
    }
   ],
   "execution_count": 11
  },
  {
   "metadata": {},
   "cell_type": "markdown",
   "source": "###### 4）是否是一个目录",
   "id": "ed635ef6d159dfdd"
  },
  {
   "metadata": {
    "ExecuteTime": {
     "end_time": "2024-09-13T07:31:33.072280Z",
     "start_time": "2024-09-13T07:31:33.058764Z"
    }
   },
   "cell_type": "code",
   "source": [
    "import os\n",
    "\n",
    "if os.path.isdir(\"/path/to/folder\"):\n",
    "    print(\"It's directory!!\")"
   ],
   "id": "4640d5acdee35035",
   "outputs": [],
   "execution_count": 12
  },
  {
   "metadata": {},
   "cell_type": "markdown",
   "source": "###### 5）切换当前工作目录",
   "id": "b89a02a26b339fbd"
  },
  {
   "metadata": {
    "ExecuteTime": {
     "end_time": "2024-09-13T07:32:25.168409Z",
     "start_time": "2024-09-13T07:32:25.156389Z"
    }
   },
   "cell_type": "code",
   "source": [
    "import os\n",
    "\n",
    "# 用于切换当前的工作目录\n",
    "os.chdir(\"/path/to/new/directory\")"
   ],
   "id": "54845e0ce1313f95",
   "outputs": [
    {
     "ename": "FileNotFoundError",
     "evalue": "[WinError 3] 系统找不到指定的路径。: '/path/to/new/directory'",
     "output_type": "error",
     "traceback": [
      "\u001B[1;31m---------------------------------------------------------------------------\u001B[0m",
      "\u001B[1;31mFileNotFoundError\u001B[0m                         Traceback (most recent call last)",
      "Cell \u001B[1;32mIn[13], line 3\u001B[0m\n\u001B[0;32m      1\u001B[0m \u001B[38;5;28;01mimport\u001B[39;00m \u001B[38;5;21;01mos\u001B[39;00m\n\u001B[1;32m----> 3\u001B[0m \u001B[43mos\u001B[49m\u001B[38;5;241;43m.\u001B[39;49m\u001B[43mchdir\u001B[49m\u001B[43m(\u001B[49m\u001B[38;5;124;43m\"\u001B[39;49m\u001B[38;5;124;43m/path/to/new/directory\u001B[39;49m\u001B[38;5;124;43m\"\u001B[39;49m\u001B[43m)\u001B[49m\n",
      "\u001B[1;31mFileNotFoundError\u001B[0m: [WinError 3] 系统找不到指定的路径。: '/path/to/new/directory'"
     ]
    }
   ],
   "execution_count": 13
  },
  {
   "metadata": {},
   "cell_type": "markdown",
   "source": "##### 3、文件操作",
   "id": "4acbc8fe25efc45e"
  },
  {
   "metadata": {},
   "cell_type": "markdown",
   "source": "###### 1）文件重命名",
   "id": "5694609b6c9e5620"
  },
  {
   "metadata": {
    "ExecuteTime": {
     "end_time": "2024-09-13T07:40:27.037382Z",
     "start_time": "2024-09-13T07:40:27.029867Z"
    }
   },
   "cell_type": "code",
   "source": [
    "import os\n",
    "\n",
    "os.rename(\"old_file.txt\", \"new_file.txt\")"
   ],
   "id": "8d251e6de0d67b17",
   "outputs": [],
   "execution_count": 14
  },
  {
   "metadata": {},
   "cell_type": "markdown",
   "source": "###### 2）删除文件",
   "id": "bd737087fa2b38a3"
  },
  {
   "metadata": {
    "ExecuteTime": {
     "end_time": "2024-09-13T07:41:17.375054Z",
     "start_time": "2024-09-13T07:41:17.357957Z"
    }
   },
   "cell_type": "code",
   "source": [
    "import os\n",
    "\n",
    "os.remove(\"new_file.txt\")"
   ],
   "id": "1a73287fc2829f19",
   "outputs": [],
   "execution_count": 15
  },
  {
   "metadata": {},
   "cell_type": "markdown",
   "source": "###### 3）获取文件信息",
   "id": "8e845c1f17c80228"
  },
  {
   "metadata": {
    "ExecuteTime": {
     "end_time": "2024-09-13T07:41:58.048746Z",
     "start_time": "2024-09-13T07:41:58.032166Z"
    }
   },
   "cell_type": "code",
   "source": [
    "import os\n",
    "\n",
    "file_info = os.stat(\"pathlib模块.ipynb\")\n",
    "\n",
    "# 对于这一部分每一个代表着什么意思没必要去记反正，需要用的时候到时候再去看怎么去弄\n",
    "print(file_info)\n",
    "# os.stat_result(st_mode=33188, st_ino=37549638, st_dev=16777221, st_nlink=1, st_uid=501, st_gid=20, st_size=58, st_atime=1703156042, st_mtime=1703156042, st_ctime=1703156042)\n",
    "\n",
    "print(f\"Last modified time: {file_info.st_mtime}\")\n",
    "# Last modified time: 1703156131.2549608"
   ],
   "id": "c8aefc7db2e89c8d",
   "outputs": [
    {
     "name": "stdout",
     "output_type": "stream",
     "text": [
      "os.stat_result(st_mode=33206, st_ino=15481123719087064, st_dev=2988956744, st_nlink=1, st_uid=0, st_gid=0, st_size=8469, st_atime=1726159215, st_mtime=1726159215, st_ctime=1726159215)\n",
      "Last modified time: 1726159215.8865008\n"
     ]
    }
   ],
   "execution_count": 16
  },
  {
   "metadata": {},
   "cell_type": "markdown",
   "source": "###### 4）是否是一个文件",
   "id": "7db1d6b97854fb01"
  },
  {
   "metadata": {
    "ExecuteTime": {
     "end_time": "2024-09-13T07:43:43.227553Z",
     "start_time": "2024-09-13T07:43:43.224043Z"
    }
   },
   "cell_type": "code",
   "source": [
    "import os\n",
    "\n",
    "if os.path.isfile(\"/path/to/file.txt\"):\n",
    "    print(\"It's file!!\")"
   ],
   "id": "39fd1ccffc6aa8d6",
   "outputs": [],
   "execution_count": 17
  }
 ],
 "metadata": {
  "kernelspec": {
   "display_name": "Python 3",
   "language": "python",
   "name": "python3"
  },
  "language_info": {
   "codemirror_mode": {
    "name": "ipython",
    "version": 2
   },
   "file_extension": ".py",
   "mimetype": "text/x-python",
   "name": "python",
   "nbconvert_exporter": "python",
   "pygments_lexer": "ipython2",
   "version": "2.7.6"
  }
 },
 "nbformat": 4,
 "nbformat_minor": 5
}
