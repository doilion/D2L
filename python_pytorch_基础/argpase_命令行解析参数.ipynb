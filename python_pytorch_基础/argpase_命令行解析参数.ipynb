{
 "cells": [
  {
   "metadata": {},
   "cell_type": "markdown",
   "source": "#### argpase模块使用的方法\n",
   "id": "77846a507eb2e50d"
  },
  {
   "metadata": {
    "ExecuteTime": {
     "end_time": "2024-09-12T15:18:37.805354Z",
     "start_time": "2024-09-12T15:18:37.781685Z"
    }
   },
   "cell_type": "code",
   "source": [
    "import argparse\n",
    "\n",
    "# 创建 ArgumentParser 对象\n",
    "parser = argparse.ArgumentParser(description=\"description\")\n",
    "\n",
    "# 添加参数\n",
    "parser.add_argument(\"-i\", \"--input\", help=\"Input file\")\n",
    "\n",
    "# 解析命令行参数\n",
    "args = parser.parse_args()\n",
    "\n",
    "# 使用参数\n",
    "print(\"Input file:\", args.input)"
   ],
   "id": "3f556140539e2619",
   "outputs": [
    {
     "name": "stderr",
     "output_type": "stream",
     "text": [
      "usage: ipykernel_launcher.py [-h] [-i INPUT]\n",
      "ipykernel_launcher.py: error: unrecognized arguments: -f C:\\Users\\11938\\AppData\\Roaming\\jupyter\\runtime\\kernel-f8248ba5-f3a8-4b39-ab8e-a6110531bd60.json\n"
     ]
    },
    {
     "ename": "SystemExit",
     "evalue": "2",
     "output_type": "error",
     "traceback": [
      "An exception has occurred, use %tb to see the full traceback.\n",
      "\u001B[1;31mSystemExit\u001B[0m\u001B[1;31m:\u001B[0m 2\n"
     ]
    },
    {
     "name": "stderr",
     "output_type": "stream",
     "text": [
      "E:\\ProgramData\\anaconda3\\envs\\d2l\\lib\\site-packages\\IPython\\core\\interactiveshell.py:3558: UserWarning: To exit: use 'exit', 'quit', or Ctrl-D.\n",
      "  warn(\"To exit: use 'exit', 'quit', or Ctrl-D.\", stacklevel=1)\n"
     ]
    }
   ],
   "execution_count": 1
  },
  {
   "metadata": {},
   "cell_type": "markdown",
   "source": "#### 使用方法距离",
   "id": "42aa8f1c05f3770d"
  },
  {
   "metadata": {},
   "cell_type": "code",
   "outputs": [],
   "execution_count": null,
   "source": [
    "import argparse\n",
    "\n",
    "parser = argparse.ArgumentParser()\n",
    "\n",
    "parser.add_argumet('-gf', '--girlfriend', choices=['small_e', 'small_fish'])\n",
    "parser.add_argument('food')\n",
    "parser.add_argument('--house', type=int, default=0)\n",
    "\n",
    "args = parser.parse_args()\n",
    "print('args :', args)\n",
    "print('girlfriend :', args.girlfriend)\n",
    "print('food :', args.food)\n",
    "print('house :', args.house)"
   ],
   "id": "3de7afe9573c8a75"
  },
  {
   "metadata": {},
   "cell_type": "markdown",
   "source": "",
   "id": "debf771a3aec695a"
  }
 ],
 "metadata": {
  "kernelspec": {
   "display_name": "Python 3",
   "language": "python",
   "name": "python3"
  },
  "language_info": {
   "codemirror_mode": {
    "name": "ipython",
    "version": 2
   },
   "file_extension": ".py",
   "mimetype": "text/x-python",
   "name": "python",
   "nbconvert_exporter": "python",
   "pygments_lexer": "ipython2",
   "version": "2.7.6"
  }
 },
 "nbformat": 4,
 "nbformat_minor": 5
}
